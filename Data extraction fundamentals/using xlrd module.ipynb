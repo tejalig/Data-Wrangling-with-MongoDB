{
 "cells": [
  {
   "cell_type": "code",
   "execution_count": 3,
   "metadata": {},
   "outputs": [
    {
     "name": "stdout",
     "output_type": "stream",
     "text": [
      "Requirement already satisfied: xlrd in c:\\programdata\\anaconda3\\lib\\site-packages (1.2.0)\n"
     ]
    }
   ],
   "source": [
    "!pip install xlrd"
   ]
  },
  {
   "cell_type": "code",
   "execution_count": 5,
   "metadata": {},
   "outputs": [],
   "source": [
    "import xlrd"
   ]
  },
  {
   "cell_type": "code",
   "execution_count": 4,
   "metadata": {},
   "outputs": [],
   "source": [
    "datafile = \"2013_ERCOT_Hourly_Load_Data.xls\""
   ]
  },
  {
   "cell_type": "code",
   "execution_count": 9,
   "metadata": {},
   "outputs": [
    {
     "name": "stdout",
     "output_type": "stream",
     "text": [
      "\n",
      "List Comprehension\n",
      "data[3][2]:\n",
      "1036.0886969999988\n",
      "\n",
      "Cells in a nested loop:\n",
      "41277.083333333336\n",
      "9238.737309999968\n",
      "1438.2052799999994\n",
      "1565.4428559999976\n",
      "916.7083480000003\n",
      "14010.903488000036\n",
      "3027.9833399999993\n",
      "6165.211119000006\n",
      "1157.7416630000007\n",
      "37520.93340400001\n",
      "\n",
      "ROWS, COLUMNS, and CELLS:\n",
      "Number of rows in the sheet:\n",
      "7296\n",
      "Type of data in cell (row 3, col 2):\n",
      "2\n",
      "Value in cell (row 3, col 2):\n",
      "1036.0886969999988\n",
      "Get a slice of values in column 3, from rows 1-3:\n",
      "[1411.7505669999982, 1403.4722870000019, 1395.053150000001]\n",
      "\n",
      "DATES:\n",
      "Type of data in cell (row 1, col 0):\n",
      "3\n",
      "Time in Excel format:\n",
      "41275.041666666664\n",
      "Convert time to a Python datetime tuple, from the Excel float:\n",
      "(2013, 1, 1, 1, 0, 0)\n"
     ]
    }
   ],
   "source": [
    "import xlrd\n",
    "\n",
    "datafile = \"2013_ERCOT_Hourly_Load_Data.xls\"\n",
    "\n",
    "\n",
    "def parse_file(datafile):\n",
    "    workbook = xlrd.open_workbook(datafile)\n",
    "    sheet = workbook.sheet_by_index(0)\n",
    "\n",
    "    data = [[sheet.cell_value(r, col) \n",
    "                for col in range(sheet.ncols)] \n",
    "                    for r in range(sheet.nrows)]\n",
    "\n",
    "    print( \"\\nList Comprehension\")\n",
    "    print( \"data[3][2]:\",)\n",
    "    print( data[3][2])\n",
    "\n",
    "    print( \"\\nCells in a nested loop:\") \n",
    "    for row in range(sheet.nrows):\n",
    "        for col in range(sheet.ncols):\n",
    "            if row == 50:\n",
    "                print( sheet.cell_value(row, col))\n",
    "\n",
    "\n",
    "    ### other useful methods:\n",
    "    print( \"\\nROWS, COLUMNS, and CELLS:\")\n",
    "    print( \"Number of rows in the sheet:\") \n",
    "    print( sheet.nrows)\n",
    "    print( \"Type of data in cell (row 3, col 2):\", )\n",
    "    print( sheet.cell_type(3, 2))\n",
    "    print( \"Value in cell (row 3, col 2):\", )\n",
    "    print( sheet.cell_value(3, 2))\n",
    "    print( \"Get a slice of values in column 3, from rows 1-3:\")\n",
    "    print( sheet.col_values(3, start_rowx=1, end_rowx=4))\n",
    "\n",
    "    print( \"\\nDATES:\")\n",
    "    print( \"Type of data in cell (row 1, col 0):\", )\n",
    "    print( sheet.cell_type(1, 0))\n",
    "    exceltime = sheet.cell_value(1, 0)\n",
    "    print( \"Time in Excel format:\",)\n",
    "    print( exceltime)\n",
    "    print( \"Convert time to a Python datetime tuple, from the Excel float:\",)\n",
    "    print( xlrd.xldate_as_tuple(exceltime, 0))\n",
    "\n",
    "    return data\n",
    "\n",
    "data = parse_file(datafile)"
   ]
  },
  {
   "cell_type": "code",
   "execution_count": null,
   "metadata": {},
   "outputs": [],
   "source": []
  }
 ],
 "metadata": {
  "kernelspec": {
   "display_name": "Python 3",
   "language": "python",
   "name": "python3"
  },
  "language_info": {
   "codemirror_mode": {
    "name": "ipython",
    "version": 3
   },
   "file_extension": ".py",
   "mimetype": "text/x-python",
   "name": "python",
   "nbconvert_exporter": "python",
   "pygments_lexer": "ipython3",
   "version": "3.7.6"
  }
 },
 "nbformat": 4,
 "nbformat_minor": 4
}
