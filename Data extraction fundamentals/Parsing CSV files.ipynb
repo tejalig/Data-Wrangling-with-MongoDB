{
 "cells": [
  {
   "cell_type": "code",
   "execution_count": 1,
   "metadata": {},
   "outputs": [],
   "source": [
    "import os"
   ]
  },
  {
   "cell_type": "code",
   "execution_count": 2,
   "metadata": {},
   "outputs": [],
   "source": [
    "DATADIR = \"\"\n",
    "DATAFILE = \"beatles-diskography.csv\""
   ]
  },
  {
   "cell_type": "code",
   "execution_count": 3,
   "metadata": {},
   "outputs": [],
   "source": [
    "def parse_file(datafile):\n",
    "    data = []\n",
    "    with open(datafile, \"rb\") as f:\n",
    "        for line in f:\n",
    "            data.append(line)\n",
    "    return data"
   ]
  },
  {
   "cell_type": "code",
   "execution_count": 4,
   "metadata": {},
   "outputs": [],
   "source": [
    "def test():\n",
    "    # a simple test of your implementation\n",
    "    datafile = os.path.join(DATADIR, DATAFILE)\n",
    "    d = parse_file(datafile)\n",
    "    firstline = {'Title' : 'Please Please Me', 'UK Chart Position' : 1}"
   ]
  },
  {
   "cell_type": "code",
   "execution_count": 5,
   "metadata": {},
   "outputs": [
    {
     "data": {
      "text/plain": [
       "[b'Title,Released,Label,UK Chart Position,US Chart Position,BPI Certification,RIAA Certification\\n',\n",
       " b'Please Please Me,22 March 1963,Parlophone(UK),1,-,Gold,Platinum\\n']"
      ]
     },
     "execution_count": 5,
     "metadata": {},
     "output_type": "execute_result"
    }
   ],
   "source": [
    "data = parse_file(DATAFILE)\n",
    "data[0:2]"
   ]
  },
  {
   "cell_type": "code",
   "execution_count": 6,
   "metadata": {},
   "outputs": [
    {
     "data": {
      "text/plain": [
       "[['Title',\n",
       "  'Released',\n",
       "  'Label',\n",
       "  'UK Chart Position',\n",
       "  'US Chart Position',\n",
       "  'BPI Certification',\n",
       "  \"RIAA Certification\\\\n'\"],\n",
       " ['Please Please Me',\n",
       "  '22 March 1963',\n",
       "  'Parlophone(UK)',\n",
       "  '1',\n",
       "  '-',\n",
       "  'Gold',\n",
       "  \"Platinum\\\\n'\"]]"
      ]
     },
     "execution_count": 6,
     "metadata": {},
     "output_type": "execute_result"
    }
   ],
   "source": [
    "data = [str(d).replace('b\\'', '').replace('\\n', '').split(\",\") for d in data]\n",
    "data[0:2]"
   ]
  },
  {
   "cell_type": "code",
   "execution_count": 7,
   "metadata": {},
   "outputs": [],
   "source": [
    "\n",
    "val_0 = [val[0] for val in data]\n",
    "val_1 = [val[1] for val in data]\n",
    "val_2 = [val[2] for val in data]\n",
    "val_3 = [val[3] for val in data]\n",
    "val_4 = [val[4] for val in data]\n",
    "val_5 = [val[5] for val in data]\n"
   ]
  },
  {
   "cell_type": "code",
   "execution_count": 8,
   "metadata": {},
   "outputs": [
    {
     "data": {
      "text/plain": [
       "dict_keys(['Title', 'Released', 'Label', 'UK Chart Position', 'US Chart Position', 'BPI Certification'])"
      ]
     },
     "execution_count": 8,
     "metadata": {},
     "output_type": "execute_result"
    }
   ],
   "source": [
    "data_dict = {}\n",
    "data_dict[val_0[0]] = val_0[1:-1]\n",
    "data_dict[val_1[0]] = val_1[1:-1]\n",
    "data_dict[val_2[0]] = val_2[1:-1]\n",
    "data_dict[val_3[0]] = val_3[1:-1]\n",
    "data_dict[val_4[0]] = val_4[1:-1]\n",
    "data_dict[val_5[0]] = val_5[1:-1]\n",
    "data_dict.keys()"
   ]
  },
  {
   "cell_type": "code",
   "execution_count": 9,
   "metadata": {},
   "outputs": [],
   "source": [
    "## Method 2\n",
    "def parse_file(datafile):\n",
    "    data = []\n",
    "    with open(datafile, \"rb\") as f:\n",
    "        header = str(f.readline()).replace('b\\'', '').split(\",\")\n",
    "        counter = 0\n",
    "        for line in f:\n",
    "            if(counter == 10):\n",
    "                break\n",
    "            fields = str(line).replace('b\\'', '').split(\",\")\n",
    "            entry = {}\n",
    "            \n",
    "            for i, value in enumerate(fields):\n",
    "                entry[header[i].strip()] = value.strip()\n",
    "            data.append(entry)\n",
    "            counter +=1\n",
    "    return data"
   ]
  },
  {
   "cell_type": "code",
   "execution_count": 10,
   "metadata": {},
   "outputs": [
    {
     "data": {
      "text/plain": [
       "[{'Title': 'Please Please Me',\n",
       "  'Released': '22 March 1963',\n",
       "  'Label': 'Parlophone(UK)',\n",
       "  'UK Chart Position': '1',\n",
       "  'US Chart Position': '-',\n",
       "  'BPI Certification': 'Gold',\n",
       "  \"RIAA Certification\\\\n'\": \"Platinum\\\\n'\"},\n",
       " {'Title': 'With the Beatles',\n",
       "  'Released': '22 November 1963',\n",
       "  'Label': 'Parlophone(UK)',\n",
       "  'UK Chart Position': '1',\n",
       "  'US Chart Position': '-',\n",
       "  'BPI Certification': 'Platinum',\n",
       "  \"RIAA Certification\\\\n'\": \"Gold\\\\n'\"},\n",
       " {'Title': 'Beatlemania! With the Beatles',\n",
       "  'Released': '25 November 1963',\n",
       "  'Label': 'Capitol(CAN)',\n",
       "  'UK Chart Position': '-',\n",
       "  'US Chart Position': '-',\n",
       "  'BPI Certification': '',\n",
       "  \"RIAA Certification\\\\n'\": \"\\\\n'\"},\n",
       " {'Title': 'Introducing... The Beatles',\n",
       "  'Released': '10 January 1964',\n",
       "  'Label': 'Vee-Jay(US)',\n",
       "  'UK Chart Position': '-',\n",
       "  'US Chart Position': '2',\n",
       "  'BPI Certification': '',\n",
       "  \"RIAA Certification\\\\n'\": \"\\\\n'\"},\n",
       " {'Title': 'Meet the Beatles!',\n",
       "  'Released': '20 January 1964',\n",
       "  'Label': 'Capitol(US)',\n",
       "  'UK Chart Position': '-',\n",
       "  'US Chart Position': '1',\n",
       "  'BPI Certification': '',\n",
       "  \"RIAA Certification\\\\n'\": \"5xPlatinum\\\\n'\"},\n",
       " {'Title': 'Twist and Shout',\n",
       "  'Released': '3 February 1964',\n",
       "  'Label': 'Capitol(CAN)',\n",
       "  'UK Chart Position': '-',\n",
       "  'US Chart Position': '-',\n",
       "  'BPI Certification': '',\n",
       "  \"RIAA Certification\\\\n'\": \"\\\\n'\"},\n",
       " {'Title': 'b\"The Beatles\\' Second Album',\n",
       "  'Released': '10 April 1964',\n",
       "  'Label': 'Capitol(US)',\n",
       "  'UK Chart Position': '-',\n",
       "  'US Chart Position': '1',\n",
       "  'BPI Certification': '',\n",
       "  \"RIAA Certification\\\\n'\": '2xPlatinum\\\\n\"'},\n",
       " {'Title': 'b\"The Beatles\\' Long Tall Sally',\n",
       "  'Released': '11 May 1964',\n",
       "  'Label': 'Capitol(CAN)',\n",
       "  'UK Chart Position': '-',\n",
       "  'US Chart Position': '-',\n",
       "  'BPI Certification': '',\n",
       "  \"RIAA Certification\\\\n'\": '\\\\n\"'},\n",
       " {'Title': 'b\"A Hard Day\\'s Night',\n",
       "  'Released': '26 June 1964',\n",
       "  'Label': 'United Artists(US)[C]',\n",
       "  'UK Chart Position': '-',\n",
       "  'US Chart Position': '1',\n",
       "  'BPI Certification': '',\n",
       "  \"RIAA Certification\\\\n'\": '4xPlatinum\\\\n\"'},\n",
       " {'Title': '',\n",
       "  'Released': '10 July 1964',\n",
       "  'Label': 'Parlophone(UK)',\n",
       "  'UK Chart Position': '1',\n",
       "  'US Chart Position': '-',\n",
       "  'BPI Certification': 'Gold',\n",
       "  \"RIAA Certification\\\\n'\": \"\\\\n'\"}]"
      ]
     },
     "execution_count": 10,
     "metadata": {},
     "output_type": "execute_result"
    }
   ],
   "source": [
    "parse_file(DATAFILE)"
   ]
  },
  {
   "cell_type": "code",
   "execution_count": null,
   "metadata": {},
   "outputs": [],
   "source": []
  }
 ],
 "metadata": {
  "kernelspec": {
   "display_name": "Python 3",
   "language": "python",
   "name": "python3"
  },
  "language_info": {
   "codemirror_mode": {
    "name": "ipython",
    "version": 3
   },
   "file_extension": ".py",
   "mimetype": "text/x-python",
   "name": "python",
   "nbconvert_exporter": "python",
   "pygments_lexer": "ipython3",
   "version": "3.7.6"
  }
 },
 "nbformat": 4,
 "nbformat_minor": 4
}
